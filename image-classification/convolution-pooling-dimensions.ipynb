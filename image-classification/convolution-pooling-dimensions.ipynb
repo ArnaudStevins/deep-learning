{
 "cells": [
  {
   "cell_type": "markdown",
   "metadata": {},
   "source": [
    "# This short notebook will be used to compute the size of the output when using a convolution or pooling operation on an image"
   ]
  },
  {
   "cell_type": "markdown",
   "metadata": {},
   "source": [
    "**Input Data**"
   ]
  },
  {
   "cell_type": "code",
   "execution_count": 16,
   "metadata": {
    "collapsed": true
   },
   "outputs": [],
   "source": [
    "import math\n",
    "# 1. Please enter the values for the input tensor\n",
    "input_batch =1\n",
    "input_height = 4\n",
    "input_width = 4\n",
    "input_channels = 1\n",
    "\n",
    "# Therefore,\n",
    "input = [batch, input_height, input_width, input_channels]"
   ]
  },
  {
   "cell_type": "code",
   "execution_count": 17,
   "metadata": {
    "collapsed": true
   },
   "outputs": [],
   "source": [
    "# 2. Please enter the values for the convolution or pooling filter size\n",
    "# If pooling, then this is the ksize of the window on which we max/average etc...\n",
    "# normally filter_batch and filter_channel = 1\n",
    "\n",
    "filter_batch = 1 \n",
    "filter_height = 2\n",
    "filter_width = 2\n",
    "filter_channel = 1\n",
    "\n",
    "#Therefore,\n",
    "filter = [filter_batch,filter_height, filter_width, filter_channel]"
   ]
  },
  {
   "cell_type": "code",
   "execution_count": 18,
   "metadata": {
    "collapsed": true
   },
   "outputs": [],
   "source": [
    "# 3. Please enter the strides to be used for the convolution or pooling \n",
    "# input_batch_stride and input_channels_stride should normally always be 1\n",
    "\n",
    "input_batch_stride = 1 \n",
    "input_height_stride=2\n",
    "input_width_stride=2\n",
    "input_channels_stride = 1 \n",
    "\n",
    "#Therefore,\n",
    "strides = [batch_stride,input_height_stride,input_width_stride,input_channels_stride]"
   ]
  },
  {
   "cell_type": "markdown",
   "metadata": {},
   "source": [
    "** Computations for SAME padding **"
   ]
  },
  {
   "cell_type": "code",
   "execution_count": 19,
   "metadata": {},
   "outputs": [
    {
     "name": "stdout",
     "output_type": "stream",
     "text": [
      "SAME PADDING\n",
      "\n",
      "Input dimensions  : [1, 4, 4, 1]\n",
      "Filter dimensions : [1, 2, 2, 1]\n",
      "Stride            : [1, 2, 2, 1]\n",
      "Output dimensions : [1, 2, 2, 1]\n",
      "Padding           : top = 0  bottom= 0  left= 0  right= 0\n"
     ]
    }
   ],
   "source": [
    "# first, \"SAME\" padding\n",
    "\n",
    "same_out_batch = math.ceil(float(input_batch) / float(input_batch_stride))\n",
    "same_out_height = math.ceil(float(input_height) / float(input_height_stride))\n",
    "same_out_width  = math.ceil(float(input_width) / float(input_width_stride))\n",
    "same_out_channels = math.ceil(float(input_channels) / float(input_channels_stride))\n",
    "\n",
    "same_output = [same_out_batch,same_out_height,same_out_width,same_out_channels]\n",
    "\n",
    "pad_along_height = max((same_out_height - 1) * input_height_stride + filter_height - input_height, 0)\n",
    "pad_along_width = max((same_out_width - 1) * input_width_stride + filter_width - input_width, 0)\n",
    "pad_top = pad_along_height // 2\n",
    "pad_bottom = pad_along_height - pad_top\n",
    "pad_left = pad_along_width // 2\n",
    "pad_right = pad_along_width - pad_left\n",
    "\n",
    "print(\"SAME PADDING\\n\")\n",
    "print(\"Input dimensions  :\",input)\n",
    "print(\"Filter dimensions :\",filter)\n",
    "print(\"Stride            :\",strides)\n",
    "print(\"Output dimensions :\",same_output)\n",
    "print(\"Padding           : top =\",pad_top,\" bottom=\",pad_bottom,\" left=\",pad_left,\" right=\",pad_right)\n",
    "\n"
   ]
  },
  {
   "cell_type": "markdown",
   "metadata": {},
   "source": [
    "** Computations for VALID padding**"
   ]
  },
  {
   "cell_type": "code",
   "execution_count": 20,
   "metadata": {},
   "outputs": [
    {
     "name": "stdout",
     "output_type": "stream",
     "text": [
      "VALID PADDING\n",
      "\n",
      "Input dimensions  : [1, 4, 4, 1]\n",
      "Filter dimensions : [1, 2, 2, 1]\n",
      "Stride            : [1, 2, 2, 1]\n",
      "Output dimensions : [1, 2, 2, 1]\n",
      "Padding          : Not applicable for valid padding\n"
     ]
    }
   ],
   "source": [
    "# Second, \"VALID\" padding\n",
    "valid_out_batch = math.ceil(float(input_batch - filter_batch + 1) / float(input_batch_stride))\n",
    "valid_out_height = math.ceil(float(input_height - filter_height + 1) / float(input_height_stride))\n",
    "valid_out_width  = math.ceil(float(input_width - filter_width + 1) / float(input_width_stride))\n",
    "valid_out_channels = math.ceil(float(input_channels - filter_channel +1) / float(input_channels_stride))\n",
    "valid_output = [valid_out_batch,valid_out_height,valid_out_width,valid_out_channels]\n",
    "\n",
    "print(\"VALID PADDING\\n\")\n",
    "print(\"Input dimensions  :\",input)\n",
    "print(\"Filter dimensions :\",filter)\n",
    "print(\"Stride            :\",strides)\n",
    "print(\"Output dimensions :\",valid_output)\n",
    "print (\"Padding          : Not applicable for valid padding\" )"
   ]
  },
  {
   "cell_type": "code",
   "execution_count": null,
   "metadata": {
    "collapsed": true
   },
   "outputs": [],
   "source": []
  }
 ],
 "metadata": {
  "kernelspec": {
   "display_name": "Python 3",
   "language": "python",
   "name": "python3"
  },
  "language_info": {
   "codemirror_mode": {
    "name": "ipython",
    "version": 3
   },
   "file_extension": ".py",
   "mimetype": "text/x-python",
   "name": "python",
   "nbconvert_exporter": "python",
   "pygments_lexer": "ipython3",
   "version": "3.5.3"
  }
 },
 "nbformat": 4,
 "nbformat_minor": 2
}
